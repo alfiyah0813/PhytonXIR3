{
  "nbformat": 4,
  "nbformat_minor": 0,
  "metadata": {
    "colab": {
      "provenance": [],
      "authorship_tag": "ABX9TyMzDr/iiC1aXzNlS4OsQ1V8",
      "include_colab_link": true
    },
    "kernelspec": {
      "name": "python3",
      "display_name": "Python 3"
    },
    "language_info": {
      "name": "python"
    }
  },
  "cells": [
    {
      "cell_type": "markdown",
      "metadata": {
        "id": "view-in-github",
        "colab_type": "text"
      },
      "source": [
        "<a href=\"https://colab.research.google.com/github/alfiyah0813/PhytonXIR3/blob/main/Latihan_py.ipynb\" target=\"_parent\"><img src=\"https://colab.research.google.com/assets/colab-badge.svg\" alt=\"Open In Colab\"/></a>"
      ]
    },
    {
      "cell_type": "code",
      "execution_count": null,
      "metadata": {
        "colab": {
          "base_uri": "https://localhost:8080/"
        },
        "id": "NTN_i1se95_u",
        "outputId": "a8d81998-982d-4907-f83c-98e565765eda"
      },
      "outputs": [
        {
          "output_type": "stream",
          "name": "stdout",
          "text": [
            "Before casting : 456 , the data type is <class 'str'>\n",
            "After casting : 456 , the data type is <class 'int'>\n"
          ]
        }
      ],
      "source": [
        "# cast from str to int\n",
        "str_numbers = \"456\"\n",
        "str_numbers_to_int = int(str_numbers)\n",
        "print(\"Before casting :\", str_numbers, \", the data type is\",\n",
        "type(str_numbers))\n",
        "print(\"After casting :\", str_numbers_to_int, \", the data type is\",\n",
        "type(str_numbers_to_int))"
      ]
    },
    {
      "cell_type": "code",
      "source": [
        "# casting from int to str\n",
        "integer = 12345\n",
        "integer_to_str = str(integer)\n",
        "print(\"Before casting :\", integer, \", the data type is\", type(integer))\n",
        "print(\"After casting :\", integer_to_str, \", the data type is\",\n",
        "type(integer_to_str))"
      ],
      "metadata": {
        "colab": {
          "base_uri": "https://localhost:8080/"
        },
        "id": "-FcAyBON_BQm",
        "outputId": "071927a7-3681-44f4-e435-52287dca5bca"
      },
      "execution_count": null,
      "outputs": [
        {
          "output_type": "stream",
          "name": "stdout",
          "text": [
            "Before casting : 12345 , the data type is <class 'int'>\n",
            "After casting : 12345 , the data type is <class 'str'>\n"
          ]
        }
      ]
    },
    {
      "cell_type": "code",
      "source": [
        "# casting from int to bool\n",
        "num_int = 1\n",
        "num_bool = bool(num_int)\n",
        "print(num_bool, type(num_bool))\n",
        "num_int = 0\n",
        "num_bool = bool(num_int)\n",
        "print(num_bool, type(num_bool))"
      ],
      "metadata": {
        "colab": {
          "base_uri": "https://localhost:8080/"
        },
        "id": "lbbjx1xl_FjA",
        "outputId": "56967080-404b-4d1c-cc01-4c3bc7c66159"
      },
      "execution_count": null,
      "outputs": [
        {
          "output_type": "stream",
          "name": "stdout",
          "text": [
            "True <class 'bool'>\n",
            "False <class 'bool'>\n"
          ]
        }
      ]
    },
    {
      "cell_type": "code",
      "source": [
        "# Equal to\n",
        "3 == 8\n",
        "# Not equal to\n",
        "4 != 9\n",
        "# Greater than\n",
        "23 > 9\n",
        "# Less than\n",
        "7 < 9\n",
        "# Less than\n",
        "9 <= 9\n",
        "# Less than\n",
        "10 >= 9"
      ],
      "metadata": {
        "colab": {
          "base_uri": "https://localhost:8080/"
        },
        "id": "PIU0cB3q_PBG",
        "outputId": "889e31ec-97a9-43e0-cb4b-2619a85cc039"
      },
      "execution_count": null,
      "outputs": [
        {
          "output_type": "execute_result",
          "data": {
            "text/plain": [
              "True"
            ]
          },
          "metadata": {},
          "execution_count": 8
        }
      ]
    },
    {
      "cell_type": "code",
      "source": [
        "a = False\n",
        "b = True\n",
        "print(a and b)\n",
        "print(a or b)\n",
        "print(not b)\n",
        "#logic\n",
        "13 > 6 and 3 < 7"
      ],
      "metadata": {
        "colab": {
          "base_uri": "https://localhost:8080/"
        },
        "id": "sK74dcnrA320",
        "outputId": "24e50037-91c4-447a-a1e8-a28b462f6a67"
      },
      "execution_count": null,
      "outputs": [
        {
          "output_type": "stream",
          "name": "stdout",
          "text": [
            "False\n",
            "True\n",
            "False\n"
          ]
        },
        {
          "output_type": "execute_result",
          "data": {
            "text/plain": [
              "True"
            ]
          },
          "metadata": {},
          "execution_count": 11
        }
      ]
    },
    {
      "cell_type": "code",
      "source": [
        "f = 9\n",
        "j = 13\n",
        "# Summation\n",
        "sum = f + j\n",
        "print(f\"The sum of f with j is : {sum}\\n\")\n",
        "# Reduction\n",
        "red = f - j\n",
        "print(f\"The reduction of f with j is : {red}\\n\")\n",
        "# Multiplication\n",
        "multi = f * j\n",
        "print(f\"The multipication of f with j is : {multi}\\n\")\n",
        "# Division\n",
        "divi = f / j\n",
        "print(f\"The quotient of f with j is : {divi}\\n\")\n",
        "# Modulo\n",
        "mod = f % j\n",
        "print(f\"The remainder of f with j is : {mod}\\n\")\n",
        "# Power\n",
        "pow = f ** j\n",
        "print(f\"The power of f of j is : {pow}\\n\")"
      ],
      "metadata": {
        "colab": {
          "base_uri": "https://localhost:8080/"
        },
        "id": "3qOKswJDBXVp",
        "outputId": "9d486685-0adf-4b5e-f655-362cc2a8e6a2"
      },
      "execution_count": null,
      "outputs": [
        {
          "output_type": "stream",
          "name": "stdout",
          "text": [
            "The sum of f with j is : 22\n",
            "\n",
            "The reduction of f with j is : -4\n",
            "\n",
            "The multipication of f with j is : 117\n",
            "\n",
            "The quotient of f with j is : 0.6923076923076923\n",
            "\n",
            "The remainder of f with j is : 9\n",
            "\n",
            "The power of f of j is : 2541865828329\n",
            "\n"
          ]
        }
      ]
    },
    {
      "cell_type": "code",
      "source": [
        "name = str(input(\"What is your name : \"))\n",
        "kelas_siswa = int(input(\"What's your class : \"))\n",
        "nis_siswa = int(input(\"What's your NIS : \"))\n",
        "\n",
        "print(\"Name: \", name)\n",
        "print(\"Class: \", kelas_siswa)\n",
        "print(\"Nis: \", nis_siswa)"
      ],
      "metadata": {
        "colab": {
          "base_uri": "https://localhost:8080/"
        },
        "id": "vEe6aZe4CLMM",
        "outputId": "cfca368b-1bfe-424a-c828-4ffb0ec8617b"
      },
      "execution_count": null,
      "outputs": [
        {
          "output_type": "stream",
          "name": "stdout",
          "text": [
            "What is your name : fifi\n",
            "What's your class : 3\n",
            "What's your NIS : 4\n",
            "Name:  fifi\n",
            "Class:  3\n",
            "Nis:  4\n"
          ]
        }
      ]
    },
    {
      "cell_type": "code",
      "source": [
        "# normal print\n",
        "name = 'Alfiyah'\n",
        "age = 16\n",
        "print('Hi all! I am', name, 'age', age, 'years old')\n",
        "\n",
        "# format print (menggunakan f-string)\n",
        "print(f'Hi all! I am {name} age {age} years old')\n",
        "\n",
        "# format print (menggunakan operator %)\n",
        "print('Hi all! I am %s age %d years old' % (name, age))\n",
        "\n",
        "# format output\n",
        "print(35 * \"=\")\n",
        "print(\"Temperature Calculator Program\")\n",
        "print(35 * \"=\")"
      ],
      "metadata": {
        "colab": {
          "base_uri": "https://localhost:8080/"
        },
        "id": "Gy7T83jvFRf1",
        "outputId": "5cdf7b51-34f8-415d-aa11-a2edb006ece3"
      },
      "execution_count": null,
      "outputs": [
        {
          "output_type": "stream",
          "name": "stdout",
          "text": [
            "Hi all! I am Alfiyah age 16 years old\n",
            "Hi all! I am Alfiyah age 16 years old\n",
            "Hi all! I am Alfiyah age 16 years old\n",
            "===================================\n",
            "Temperature Calculator Program\n",
            "===================================\n"
          ]
        }
      ]
    },
    {
      "cell_type": "code",
      "source": [
        "#using match case\n",
        "try:\n",
        "    your_GPA = float(input(\"Enter your GPA: \"))\n",
        "    if 4.0 >= your_GPA >= 0.0:\n",
        "        if 4.0 >= your_GPA >= 3.80:\n",
        "            print(f\"Damn you've got a magna cumlaude with your {your_GPA} GPA\")\n",
        "        elif 3.50 <= your_GPA < 3.80:\n",
        "            print(f\"Cool!! You've got a cumlaude with your {your_GPA} GPA\")\n",
        "        elif 3.00 <= your_GPA < 3.50:\n",
        "            print(f\"You've got a stable GPA tho\")\n",
        "        elif your_GPA < 3.0:\n",
        "            print(f\"You need a stable GPA\")\n",
        "    else:\n",
        "        print(f\"Sorry, your GPA {your_GPA} is out of range and invalid\")\n",
        "except ValueError:\n",
        "    print(\"Please enter a valid GPA\")"
      ],
      "metadata": {
        "colab": {
          "base_uri": "https://localhost:8080/"
        },
        "id": "H1XhCCgZHAYn",
        "outputId": "48240e8a-f8d7-4577-f9c4-2c4410d2dab7"
      },
      "execution_count": null,
      "outputs": [
        {
          "output_type": "stream",
          "name": "stdout",
          "text": [
            "Enter your GPA: 4.0\n",
            "Damn you've got a magna cumlaude with your 4.0 GPA\n"
          ]
        }
      ]
    },
    {
      "cell_type": "code",
      "source": [
        "# using match case\n",
        "try:\n",
        "    status_code = int(input(\"Enter your status code: \"))\n",
        "    print(\"Your code means\")\n",
        "    match status_code:\n",
        "        case 200:\n",
        "            print(\"Success!\")\n",
        "        case 400:\n",
        "            print(\"Bad Request\")\n",
        "        case 401:\n",
        "            print(\"Unauthorized\")\n",
        "        case 402:\n",
        "            print(\"Payment Required\")\n",
        "        case 403:\n",
        "            print(\"Forbidden\")\n",
        "        case 404:\n",
        "            print(\"Not Found\")\n",
        "        case 500:\n",
        "            print(\"Internal Server Error\")\n",
        "        case _:\n",
        "            print(\"Unknown status code\")\n",
        "except ValueError:\n",
        "    print(\"Please enter a valid status code\")"
      ],
      "metadata": {
        "colab": {
          "base_uri": "https://localhost:8080/"
        },
        "id": "eyUSnurEHlkF",
        "outputId": "6530f321-16ba-4e36-dbd3-bffb50579ba2"
      },
      "execution_count": null,
      "outputs": [
        {
          "output_type": "stream",
          "name": "stdout",
          "text": [
            "Enter your status code: 700\n",
            "Your code means\n",
            "Unknown status code\n"
          ]
        }
      ]
    },
    {
      "cell_type": "code",
      "source": [
        "#Ternary\n",
        "a = 4\n",
        "b = \"Even Numbers\" if a % 2 == 0 else \"Odd Numbers\"\n",
        "print(b)"
      ],
      "metadata": {
        "colab": {
          "base_uri": "https://localhost:8080/"
        },
        "id": "3vBqyyn-IWUW",
        "outputId": "e67b2193-c060-40ee-ce78-fd0ac2d82171"
      },
      "execution_count": null,
      "outputs": [
        {
          "output_type": "stream",
          "name": "stdout",
          "text": [
            "Even Numbers\n"
          ]
        }
      ]
    },
    {
      "cell_type": "code",
      "source": [
        "# normal for loop\n",
        "for i in range(3):\n",
        "    print(i)\n",
        "\n",
        "# For loop dengan range\n",
        "for i in range(3):\n",
        "    print(\"Data science is easy!\")\n",
        "\n",
        "print(3 * \"=\")\n",
        "\n",
        "for i in range(1, 5, 2):\n",
        "    print(\"Data science is easy!\")"
      ],
      "metadata": {
        "colab": {
          "base_uri": "https://localhost:8080/"
        },
        "id": "9HgpsJLrJqrJ",
        "outputId": "8aa9da13-9dec-4c6d-d91b-f7eb7b52063e"
      },
      "execution_count": null,
      "outputs": [
        {
          "output_type": "stream",
          "name": "stdout",
          "text": [
            "0\n",
            "1\n",
            "2\n",
            "Data science is easy!\n",
            "Data science is easy!\n",
            "Data science is easy!\n",
            "===\n",
            "Data science is easy!\n",
            "Data science is easy!\n"
          ]
        }
      ]
    },
    {
      "cell_type": "code",
      "source": [
        "word = \"Alfiyah fadantya zahra cantik se NKRI\"\n",
        "for letter in word:\n",
        "    print(letter, end='')"
      ],
      "metadata": {
        "colab": {
          "base_uri": "https://localhost:8080/"
        },
        "id": "hLrjr2JPKpCb",
        "outputId": "6983e255-5178-4601-ffea-1ba60ea9d137"
      },
      "execution_count": null,
      "outputs": [
        {
          "output_type": "stream",
          "name": "stdout",
          "text": [
            "Alfiyah fadantya zahra cantik se NKRI"
          ]
        }
      ]
    },
    {
      "cell_type": "code",
      "source": [
        "# You can use it with enumerate function\n",
        "word = \"fifi cantik se NKRI\"\n",
        "for m, n in enumerate(word):\n",
        "    print(f\"Index {m}. {n}\")"
      ],
      "metadata": {
        "colab": {
          "base_uri": "https://localhost:8080/"
        },
        "id": "6j3sgkl-LN4H",
        "outputId": "d031d256-8349-4390-dc83-80721654acf6"
      },
      "execution_count": null,
      "outputs": [
        {
          "output_type": "stream",
          "name": "stdout",
          "text": [
            "Index 0. f\n",
            "Index 1. i\n",
            "Index 2. f\n",
            "Index 3. i\n",
            "Index 4.  \n",
            "Index 5. c\n",
            "Index 6. a\n",
            "Index 7. n\n",
            "Index 8. t\n",
            "Index 9. i\n",
            "Index 10. k\n",
            "Index 11.  \n",
            "Index 12. s\n",
            "Index 13. e\n",
            "Index 14.  \n",
            "Index 15. N\n",
            "Index 16. K\n",
            "Index 17. R\n",
            "Index 18. I\n"
          ]
        }
      ]
    },
    {
      "cell_type": "code",
      "source": [
        "# It can go backwards\n",
        "for i in range(4, 2, -1):\n",
        "    print(\"haloo nama ku fifi\")"
      ],
      "metadata": {
        "colab": {
          "base_uri": "https://localhost:8080/"
        },
        "id": "P9fnmbbEYDd8",
        "outputId": "e29dd9f1-a0a1-45a3-fc2c-9d62b82e9f8e"
      },
      "execution_count": null,
      "outputs": [
        {
          "output_type": "stream",
          "name": "stdout",
          "text": [
            "haloo nama ku fifi\n",
            "haloo nama ku fifi\n"
          ]
        }
      ]
    },
    {
      "cell_type": "code",
      "source": [
        "#Keyword control\n",
        "for i in range(5):\n",
        "    if i == 5:\n",
        "        continue # skip this loop when i is equal to 2\n",
        "    if i == 2:\n",
        "        break # stops the loop when i is equal to 4\n",
        "    print(i)"
      ],
      "metadata": {
        "colab": {
          "base_uri": "https://localhost:8080/"
        },
        "id": "1C72Ju4cY4PY",
        "outputId": "41578ef7-0c01-4117-ed2b-8775873ac4fb"
      },
      "execution_count": null,
      "outputs": [
        {
          "output_type": "stream",
          "name": "stdout",
          "text": [
            "0\n",
            "1\n"
          ]
        }
      ]
    },
    {
      "cell_type": "code",
      "source": [
        "#Using while loop\n",
        "count = 0\n",
        "while count < 4:\n",
        "    print(\"Tetap Semangat Meraih Masa Depan\")\n",
        "    count += 1"
      ],
      "metadata": {
        "colab": {
          "base_uri": "https://localhost:8080/"
        },
        "id": "EVUcPL_5ZfUF",
        "outputId": "e7c1fff3-2530-4da9-8340-da40b5d74bcd"
      },
      "execution_count": null,
      "outputs": [
        {
          "output_type": "stream",
          "name": "stdout",
          "text": [
            "Tetap Semangat Meraih Masa Depan\n",
            "Tetap Semangat Meraih Masa Depan\n",
            "Tetap Semangat Meraih Masa Depan\n",
            "Tetap Semangat Meraih Masa Depan\n"
          ]
        }
      ]
    }
  ]
}